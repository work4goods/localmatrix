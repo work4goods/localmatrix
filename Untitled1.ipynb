{
  "nbformat": 4,
  "nbformat_minor": 0,
  "metadata": {
    "colab": {
      "name": "Untitled1.ipynb",
      "provenance": [],
      "authorship_tag": "ABX9TyNnqsKwY5vzMIlu/Y+YT1IW",
      "include_colab_link": true
    },
    "kernelspec": {
      "name": "python3",
      "display_name": "Python 3"
    },
    "language_info": {
      "name": "python"
    }
  },
  "cells": [
    {
      "cell_type": "markdown",
      "metadata": {
        "id": "view-in-github",
        "colab_type": "text"
      },
      "source": [
        "<a href=\"https://colab.research.google.com/github/work4goods/localmatrix/blob/main/Untitled1.ipynb\" target=\"_parent\"><img src=\"https://colab.research.google.com/assets/colab-badge.svg\" alt=\"Open In Colab\"/></a>"
      ]
    },
    {
      "cell_type": "code",
      "metadata": {
        "id": "u7mFXXlV_Czk"
      },
      "source": [
        "import numpy as np\n",
        "import pandas as pd\n",
        "import scipy.stats as stats\n",
        "\n",
        "data = pd.read_csv(\"Data.txt\")\n",
        "data = data['data']\n",
        "\n",
        "KS = stats.kstest(data, lambda x: stats.f.pdf(x, 1, 2))\n",
        "\n",
        "pvalue = KS[1]\n",
        "\n",
        "if(p_value > 0.06):\n",
        "    p_value = \"{0:.8f}\".format(pvalue)\n",
        "    print(pvalue)\n",
        "\n",
        "else:\n",
        "    \n",
        "    print(0)"
      ],
      "execution_count": null,
      "outputs": []
    }
  ]
}